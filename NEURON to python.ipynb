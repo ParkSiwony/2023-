{
 "cells": [
  {
   "cell_type": "markdown",
   "id": "a959699a",
   "metadata": {},
   "source": [
    "NEURON to python"
   ]
  },
  {
   "cell_type": "code",
   "execution_count": 1,
   "id": "34892e3e",
   "metadata": {
    "scrolled": true
   },
   "outputs": [
    {
     "name": "stdout",
     "output_type": "stream",
     "text": [
      "soma { nseg=1  L=100  Ra=35.4\n",
      "\t/*location 0 attached to cell 0*/\n",
      "\t/* First segment only */\n",
      "\tinsert morphology { diam=500}\n",
      "\tinsert capacitance { cm=1}\n",
      "}\n",
      "Help on built-in function connect:\n",
      "\n",
      "connect(...) method of nrn.Section instance\n",
      "    childSection.connect(parentSection, [parentX], [childEnd]) or\n",
      "    childSection.connect(parentSegment, [childEnd])\n",
      "\n",
      "type(soma) = <class 'nrn.Section'>\n",
      "type(soma(0.5)) =<class 'nrn.Segment'>\n",
      "['__class__', '__delattr__', '__dir__', '__doc__', '__eq__', '__format__', '__ge__', '__getattribute__', '__gt__', '__hash__', '__init__', '__init_subclass__', '__iter__', '__le__', '__lt__', '__module__', '__ne__', '__new__', '__reduce__', '__reduce_ex__', '__repr__', '__setattr__', '__sizeof__', '__str__', '__subclasshook__', 'e', 'g', 'i', 'is_ion', 'name', 'segment']\n",
      "0.001\n",
      "0.001\n",
      "asyn.e = 0.0\n",
      "asyn.gmax = 0.0\n",
      "asyn.onset = 0.0\n",
      "asyn.tau = 0.1\n",
      "soma { nseg=1  L=100  Ra=35.4\n",
      "\t/*location 0 attached to cell 0*/\n",
      "\t/* First segment only */\n",
      "\tinsert morphology { diam=500}\n",
      "\tinsert capacitance { cm=1}\n",
      "\tinsert pas { g_pas=0.001 e_pas=-70}\n",
      "\tinsert AlphaSynapse { onset=20 tau=0.1 gmax=1 e=0}\n",
      "}\n"
     ]
    },
    {
     "data": {
      "image/png": "[encoded data removed]",
      "text/plain": [
       "<Figure size 800x400 with 1 Axes>"
      ]
     },
     "metadata": {},
     "output_type": "display_data"
    }
   ],
   "source": [
    "from neuron import h, gui\n",
    "\n",
    "soma = h.Section(name='soma')\n",
    "h.psection()\n",
    "\n",
    "dir(soma)\n",
    "# Run the simulation\n",
    "help(soma.connect)\n",
    "\n",
    "soma.insert('pas')\n",
    "\n",
    "print(\"type(soma) = {}\".format(type(soma)))\n",
    "print(\"type(soma(0.5)) ={}\".format(type(soma(0.5))))\n",
    "\n",
    "mech = soma(0.5).pas\n",
    "print(dir(mech))\n",
    "print(mech.g)\n",
    "print(soma(0.5).pas.g)\n",
    "\n",
    "asyn = h.AlphaSynapse(soma(0.5))\n",
    "dir(asyn)\n",
    "\n",
    "print(\"asyn.e = {}\".format(asyn.e))\n",
    "print(\"asyn.gmax = {}\".format(asyn.gmax))\n",
    "print(\"asyn.onset = {}\".format(asyn.onset))\n",
    "print(\"asyn.tau = {}\".format(asyn.tau))\n",
    "\n",
    "\n",
    "asyn.onset = 20\n",
    "asyn.gmax = 1\n",
    "h.psection()\n",
    "\n",
    "v_vec = h.Vector()             # Membrane potential vector\n",
    "t_vec = h.Vector()             # Time stamp vector\n",
    "v_vec.record(soma(0.5)._ref_v)\n",
    "t_vec.record(h._ref_t)\n",
    "\n",
    "h.tstop = 50\n",
    "h.run()\n",
    "\n",
    "# Plot the results\n",
    "import matplotlib.pyplot as plt\n",
    "plt.figure(figsize=(8,4)) # Default figsize is (8,6)\n",
    "plt.plot(t_vec, v_vec)\n",
    "plt.xlabel('time (ms)')\n",
    "plt.ylabel('mV')\n",
    "plt.show()\n"
   ]
  },
  {
   "cell_type": "markdown",
   "id": "994cc5d5",
   "metadata": {},
   "source": [
    "HW -1 "
   ]
  },
  {
   "cell_type": "code",
   "execution_count": 18,
   "id": "7fe05879",
   "metadata": {
    "scrolled": true
   },
   "outputs": [
    {
     "name": "stderr",
     "output_type": "stream",
     "text": [
      "NEURON: missing quote \n",
      " near line 1\n",
      " {xopen(\"C:\n",
      "           ^\n",
      "        execute1(\"{xopen(\"C:...\")\n",
      "      load_file(\"C:\\nrn\\NEU...\")\n"
     ]
    },
    {
     "data": {
      "text/plain": [
       "0.0"
      ]
     },
     "execution_count": 18,
     "metadata": {},
     "output_type": "execute_result"
    }
   ],
   "source": [
    "from neuron import h, gui\n",
    "\n",
    "h.load_file(r'C:\\nrn\\NEURON 8.2.2 AMD64\\KuznetsovaEtAl2010\\Fig2b2.hoc')\n"
   ]
  },
  {
   "cell_type": "code",
   "execution_count": null,
   "id": "35f8c2b6",
   "metadata": {},
   "outputs": [],
   "source": []
  },
  {
   "cell_type": "code",
   "execution_count": null,
   "id": "83ec6375",
   "metadata": {},
   "outputs": [],
   "source": []
  }
 ],
 "metadata": {
  "kernelspec": {
   "display_name": "Python 3 (ipykernel)",
   "language": "python",
   "name": "python3"
  },
  "language_info": {
   "codemirror_mode": {
    "name": "ipython",
    "version": 3
   },
   "file_extension": ".py",
   "mimetype": "text/x-python",
   "name": "python",
   "nbconvert_exporter": "python",
   "pygments_lexer": "ipython3",
   "version": "3.10.9"
  }
 },
 "nbformat": 4,
 "nbformat_minor": 5
}
