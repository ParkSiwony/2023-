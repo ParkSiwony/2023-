{
 "cells": [
  {
   "cell_type": "markdown",
   "id": "8fe9e8a7",
   "metadata": {},
   "source": [
    "ANN – artificial neuron network\n",
    "의미가 문법보다 먼저 처리 + 인공지능에게 문법을 가르칠 필요가 없이 확률적 사용 \n",
    "\n",
    "M-P neuron: 가장 처음 만들어진 뉴런의 컴퓨터, 수학적 계산 모형\n",
    "뉴런 –> 자잘한 인풋(dendrite)이 threshold를 넘으면 반응 > 아웃풋은 0 or 1\n",
    " Def Neuron:   \n",
    "     If input_info > threshold  \n",
    "         return 1\n",
    "     return 0\n",
    "\n",
    "\n",
    "M-P Neuron에서는 weight라는 개념 사용함: weight(가중치)입력이 출력에 미치는 영향\n"
   ]
  },
  {
   "cell_type": "markdown",
   "id": "d8d4622b",
   "metadata": {},
   "source": [
    "이전까지는 세포가 계산을 한다는 생각을 안했음 - 지금은 당연히 신경전달 물질과, 이온 농도로 처리한다는 것을 안다"
   ]
  },
  {
   "cell_type": "markdown",
   "id": "137ed036",
   "metadata": {},
   "source": [
    "1. M-P Basic model  single layer architecture "
   ]
  },
  {
   "cell_type": "code",
   "execution_count": 1,
   "id": "3b3387fc",
   "metadata": {},
   "outputs": [
    {
     "ename": "SyntaxError",
     "evalue": "invalid syntax (2467367549.py, line 4)",
     "output_type": "error",
     "traceback": [
      "\u001b[1;36m  Cell \u001b[1;32mIn[1], line 4\u001b[1;36m\u001b[0m\n\u001b[1;33m    if x =< threshold:\u001b[0m\n\u001b[1;37m         ^\u001b[0m\n\u001b[1;31mSyntaxError\u001b[0m\u001b[1;31m:\u001b[0m invalid syntax\n"
     ]
    }
   ],
   "source": [
    "import numpy as np\n",
    "\n",
    "def step_function(thereshold, x):\n",
    "    if x =< threshold:\n",
    "        return 0\n",
    "    return 1\n",
    "\n",
    "input_v=np.array([[0,0],[0,1],[1,0],[1,1]])\n",
    "AND_target= np.array([0,1,1,1])\n",
    "weight_v=np.array([0.4],[0,8])   #그 당시에는 weight를 바꾸려면, 하드웨어를 바꿨어야 함\n"
   ]
  },
  {
   "cell_type": "markdown",
   "id": "4557a351",
   "metadata": {},
   "source": [
    "판단에서 학습으로 넘어감 - 반복문의 시작 Frank Rossenblatt\n",
    "\n",
    "error 가 생기면 weight 값을 바꿈\n",
    "error 가 사라지면 바꾸지 않음\n",
    "\n",
    "직선 방정식으로 판단 기준을 바꿈 - 기존의 공학적 방식과는 다름\n",
    "\n",
    "but, 직선방정식 하나(single layer perceptron)로는 복잡한 계산 불가능\n",
    "\n",
    "-> hidden layer 여러개 넣으면 곡선 방정식 형성 가능 -> 복잡한 학습"
   ]
  },
  {
   "cell_type": "code",
   "execution_count": 2,
   "id": "c9f5a8bc",
   "metadata": {},
   "outputs": [
    {
     "ename": "SyntaxError",
     "evalue": "Missing parentheses in call to 'print'. Did you mean print(...)? (4009730597.py, line 19)",
     "output_type": "error",
     "traceback": [
      "\u001b[1;36m  Cell \u001b[1;32mIn[2], line 19\u001b[1;36m\u001b[0m\n\u001b[1;33m    print error\u001b[0m\n\u001b[1;37m    ^\u001b[0m\n\u001b[1;31mSyntaxError\u001b[0m\u001b[1;31m:\u001b[0m Missing parentheses in call to 'print'. Did you mean print(...)?\n"
     ]
    }
   ],
   "source": [
    "import numpy as np\n",
    "import matplotlib.pyplot as plt\n",
    "\n",
    "input_v=np.array([[0,0],[0,1],[1,0],[1,1]])\n",
    "weigt_v=np.random.randh(2)\n",
    "target=np.array([0,0,0,1])\n",
    "theshold=0.9\n",
    "alpha=1\n",
    "__________추가 작업 필요\n",
    "\n",
    "print(weight_v)\n",
    "\n",
    "for j in range(iteration):  #iteration 은 반복횟수\n",
    "    for i in range(len9input_v):\n",
    "        error = target[i]-step_func(thershold, np.dot(inpu_v[i],weight_v))\n",
    "        weight_v+=alpha*error_v[i]\n",
    "        if error!=0:\n",
    "            erro_array[j]+=1\n",
    "        print error\n",
    "        \n",
    "print(weight_v)"
   ]
  },
  {
   "cell_type": "markdown",
   "id": "8b08b53c",
   "metadata": {},
   "source": [
    "ivis 붓꽃 구분 학습\n",
    "\n",
    "학습할 때 쓰는 데이터랑 테스트할 떄 쓰는 데이터는 섞어서 쓰면 안된다.\n",
    "rand - uniform distribution \n",
    "randn - normal distribution - 퍼포먼스 보통 더 좋음"
   ]
  },
  {
   "cell_type": "code",
   "execution_count": null,
   "id": "27dba294",
   "metadata": {},
   "outputs": [],
   "source": [
    "import pandas as pd\n",
    "import matplotlib.pyplot as plt\n",
    "import numpy as np\n",
    "import seaborn as sb   #seaborn 이쁜 display library\n",
    "\n",
    "T=np.where(T=='Iris-setosa',1,0) #T가 Iris-setosa 면 1, 아니면 0\n"
   ]
  }
 ],
 "metadata": {
  "kernelspec": {
   "display_name": "Python 3 (ipykernel)",
   "language": "python",
   "name": "python3"
  },
  "language_info": {
   "codemirror_mode": {
    "name": "ipython",
    "version": 3
   },
   "file_extension": ".py",
   "mimetype": "text/x-python",
   "name": "python",
   "nbconvert_exporter": "python",
   "pygments_lexer": "ipython3",
   "version": "3.10.9"
  }
 },
 "nbformat": 4,
 "nbformat_minor": 5
}
