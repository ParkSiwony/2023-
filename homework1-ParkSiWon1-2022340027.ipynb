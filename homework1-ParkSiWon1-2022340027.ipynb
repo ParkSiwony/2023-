{
 "cells": [
  {
   "cell_type": "markdown",
   "id": "ed3010ce",
   "metadata": {},
   "source": [
    "## \"Hello, World\" 출력\n",
    "### 주피터 좋네"
   ]
  },
  {
   "cell_type": "code",
   "execution_count": 5,
   "id": "72a91fca",
   "metadata": {},
   "outputs": [
    {
     "name": "stdout",
     "output_type": "stream",
     "text": [
      "Hello, World\n"
     ]
    }
   ],
   "source": [
    "print(\"Hello, World\")"
   ]
  },
  {
   "cell_type": "markdown",
   "id": "2e972f3e",
   "metadata": {},
   "source": [
    "HW 1-1 Hangul letter with first alphabet letter \\n -> 줄바꿈"
   ]
  },
  {
   "cell_type": "code",
   "execution_count": 44,
   "id": "07f2896d",
   "metadata": {
    "scrolled": true
   },
   "outputs": [
    {
     "name": "stdout",
     "output_type": "stream",
     "text": [
      "PPP     PPP       PP\n",
      "PPP     PPP       PP\n",
      "PPP     PPP       PP\n",
      "PPPPPPPPPPP       PP\n",
      "PPP     PPP       PPPPPPPP\n",
      "PPP     PPP       PP\n",
      "PPPPPPPPPPP       PP\n",
      "                    \n",
      "                    \n",
      "  PPPPPPPPPPPPPPPPPP\n",
      "                  PP\n",
      "                  PP\n",
      "                  PP\n",
      "                  PP\n",
      "                  PP\n"
     ]
    }
   ],
   "source": [
    "a=\"PPP     PPP       PP\"\n",
    "b=\"PPPPPPPPPPP       PP\"\n",
    "A=\"PPP     PPP       PPPPPPPP\"\n",
    "c=\"  PPPPPPPPPPPPPPPPPP\"\n",
    "d=\"                  PP\"\n",
    "e=\"                    \"\n",
    "print(a,a,a,b,A,a,b,e,e,c,d,d,d,d,d,sep=\"\\n\")"
   ]
  },
  {
   "cell_type": "markdown",
   "id": "572d1bcc",
   "metadata": {},
   "source": [
    "HW 1-2 백만개 난수 형성(0~9 정수), 나의 학번 뒤의 6글자와 일치하는 확률 구하기, 이론적인 확률과 비교하기 -> 횟수 늘리면서 비교해보기?"
   ]
  },
  {
   "cell_type": "markdown",
   "id": "265e2ce7",
   "metadata": {},
   "source": [
    "for문 { 난수형성 -> for 문 ( array 안에 6개씩 묶기 -> 340027과 비교 -> 있다면 리스트에 1append ) -> len(리스트)  = 일치_개수변수 -> 일치_개수변수를 최종_리스트에 append } -> 최종_리스트의 모든 값 더하고 횟수 x로 나누어서 기댓값 찾기 "
   ]
  },
  {
   "cell_type": "code",
   "execution_count": 45,
   "id": "84e7d487",
   "metadata": {},
   "outputs": [
    {
     "name": "stdout",
     "output_type": "stream",
     "text": [
      "1.2\n"
     ]
    }
   ],
   "source": [
    "import numpy as np\n",
    "import pandas as pd\n",
    "\n",
    "def compare(x):  # x에 들어갈 것은 반복 횟수\n",
    "    Final_count = []\n",
    "    for i in range(0, x, 1):\n",
    "        Same_count = []\n",
    "        RN = np.random.randint(10, size=1000000)\n",
    "        for j in range(0, 1000000 - 5):  # 뒤에서 6번째 까지만\n",
    "            if np.array_equal(RN[j:j + 6], np.array([3, 4, 0, 0, 2, 7])):  # np array 비교\n",
    "                Same_count.append(1)\n",
    "        Final_count.append(len(Same_count))\n",
    "    Expected_value = int(sum(Final_count))\n",
    "    Result = Expected_value/x\n",
    "    return print(Result)\n",
    "\n",
    "compare(5)"
   ]
  },
  {
   "cell_type": "code",
   "execution_count": 46,
   "id": "29444126",
   "metadata": {},
   "outputs": [
    {
     "name": "stdout",
     "output_type": "stream",
     "text": [
      "0.9999950000000004\n"
     ]
    }
   ],
   "source": [
    "# 이론적인 확률\n",
    "n=999995\n",
    "p=0.1**6\n",
    "print(n*p)"
   ]
  },
  {
   "cell_type": "code",
   "execution_count": 47,
   "id": "f5db7988",
   "metadata": {},
   "outputs": [
    {
     "name": "stdout",
     "output_type": "stream",
     "text": [
      "[1 7 4 7 7 6]\n",
      "[7 4 7 7 6]\n",
      "[4 7 7 6]\n",
      "[7 7 6]\n",
      "[7 6]\n",
      "[6]\n",
      "[]\n",
      "[]\n",
      "[]\n",
      "[]\n",
      "[1 1 1 1 1 1]\n",
      "<class 'numpy.ndarray'>\n",
      "4499418\n"
     ]
    }
   ],
   "source": [
    "# 자료형 테스트\n",
    "RN=np.random.randint(10, size=1000000)\n",
    "for i in range(0,10,1):\n",
    "    print(RN[i:6])\n",
    "print(np.array([1,1,1,1,1,1]))\n",
    "print(type(np.array([1,1,1,1,1,1])))\n",
    "print((sum(RN)))"
   ]
  },
  {
   "cell_type": "markdown",
   "id": "c1dfe89e",
   "metadata": {},
   "source": [
    "HW 1-3 "
   ]
  }
 ],
 "metadata": {
  "kernelspec": {
   "display_name": "Python 3 (ipykernel)",
   "language": "python",
   "name": "python3"
  },
  "language_info": {
   "codemirror_mode": {
    "name": "ipython",
    "version": 3
   },
   "file_extension": ".py",
   "mimetype": "text/x-python",
   "name": "python",
   "nbconvert_exporter": "python",
   "pygments_lexer": "ipython3",
   "version": "3.10.9"
  }
 },
 "nbformat": 4,
 "nbformat_minor": 5
}
